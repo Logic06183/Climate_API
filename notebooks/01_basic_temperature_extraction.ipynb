{
 "cells": [
  {
   "cell_type": "markdown",
   "metadata": {},
   "source": [
    "# Basic Temperature Data Extraction with GEEMAP\n",
    "\n",
    "This tutorial will teach you how to extract climate data using Google Earth Engine and GEEMAP for health research.\n",
    "\n",
    "## Learning Objectives\n",
    "- Initialize Google Earth Engine\n",
    "- Define study locations and time periods\n",
    "- Extract temperature data from ERA5\n",
    "- Export data for analysis\n",
    "\n",
    "## Prerequisites\n",
    "- Google Earth Engine account\n",
    "- Basic Python knowledge"
   ]
  },
  {
   "cell_type": "markdown",
   "metadata": {},
   "source": [
    "## Step 1: Import Libraries and Initialize"
   ]
  },
  {
   "cell_type": "code",
   "execution_count": null,
   "metadata": {},
   "outputs": [],
   "source": [
    "# Import required libraries\n",
    "import ee\n",
    "import geemap\n",
    "import pandas as pd\n",
    "import matplotlib.pyplot as plt\n",
    "from datetime import datetime\n",
    "\n",
    "# Initialize Google Earth Engine\n",
    "try:\n",
    "    ee.Initialize()\n",
    "    print(\"✅ Google Earth Engine initialized successfully!\")\n",
    "except Exception as e:\n",
    "    print(f\"❌ Error: {e}\")\n",
    "    print(\"Please run 'earthengine authenticate' in your terminal first\")"
   ]
  },
  {
   "cell_type": "markdown",
   "metadata": {},
   "source": [
    "## Step 2: Define Your Study Area\n",
    "\n",
    "Choose coordinates for your location of interest. You can use:\n",
    "- Google Maps to find coordinates\n",
    "- GPS coordinates from field work\n",
    "- Administrative boundaries"
   ]
  },
  {
   "cell_type": "code",
   "execution_count": null,
   "metadata": {},
   "outputs": [],
   "source": [
    "# Define your study location (example: Cape Town, South Africa)\n",
    "study_lat = -33.9249\n",
    "study_lon = 18.4241\n",
    "location_name = \"Cape Town\"\n",
    "\n",
    "# Create a point geometry\n",
    "study_point = ee.Geometry.Point([study_lon, study_lat])\n",
    "\n",
    "# Create a buffer area around the point (10km radius)\n",
    "buffer_km = 10\n",
    "study_area = study_point.buffer(buffer_km * 1000)  # Convert km to meters\n",
    "\n",
    "print(f\"📍 Study Location: {location_name}\")\n",
    "print(f\"📐 Coordinates: {study_lat}, {study_lon}\")\n",
    "print(f\"🔄 Buffer radius: {buffer_km} km\")"
   ]
  },
  {
   "cell_type": "markdown",
   "metadata": {},
   "source": [
    "## Step 3: Visualize Your Study Area"
   ]
  },
  {
   "cell_type": "code",
   "execution_count": null,
   "metadata": {},
   "outputs": [],
   "source": [
    "# Create an interactive map\n",
    "Map = geemap.Map(center=[study_lat, study_lon], zoom=10)\n",
    "\n",
    "# Add the study area to the map\n",
    "Map.addLayer(study_area, {'color': 'red'}, 'Study Area')\n",
    "Map.addLayer(study_point, {'color': 'blue'}, 'Center Point')\n",
    "\n",
    "# Display the map\n",
    "Map"
   ]
  },
  {
   "cell_type": "markdown",
   "metadata": {},
   "source": [
    "## Step 4: Define Time Period\n",
    "\n",
    "Set the start and end dates for your climate data extraction."
   ]
  },
  {
   "cell_type": "code",
   "execution_count": null,
   "metadata": {},
   "outputs": [],
   "source": [
    "# Define time period for analysis\n",
    "start_date = '2020-01-01'\n",
    "end_date = '2022-12-31'\n",
    "\n",
    "# Calculate the number of days\n",
    "start_dt = datetime.strptime(start_date, '%Y-%m-%d')\n",
    "end_dt = datetime.strptime(end_date, '%Y-%m-%d')\n",
    "num_days = (end_dt - start_dt).days + 1\n",
    "\n",
    "print(f\"📅 Study Period: {start_date} to {end_date}\")\n",
    "print(f\"⏱️  Duration: {num_days} days (~{num_days/365.25:.1f} years)\")"
   ]
  },
  {
   "cell_type": "markdown",
   "metadata": {},
   "source": [
    "## Step 5: Load Climate Data\n",
    "\n",
    "We'll use ERA5-Land daily data, which provides high-quality temperature information."
   ]
  },
  {
   "cell_type": "code",
   "execution_count": null,
   "metadata": {},
   "outputs": [],
   "source": [
    "# Load ERA5-Land daily temperature data\n",
    "era5_collection = ee.ImageCollection('ECMWF/ERA5_LAND/DAILY_AGGR') \\\n",
    "    .filterDate(start_date, end_date) \\\n",
    "    .filterBounds(study_area)\n",
    "\n",
    "print(f\"📊 Found {era5_collection.size().getInfo()} daily temperature records\")\n",
    "\n",
    "# Function to convert temperature from Kelvin to Celsius\n",
    "def convert_temperature(image):\n",
    "    # Select temperature bands and convert K to °C\n",
    "    temp_c = image.select(['temperature_2m_max', 'temperature_2m_mean']) \\\n",
    "        .subtract(273.15) \\\n",
    "        .copyProperties(image, ['system:time_start'])\n",
    "    \n",
    "    # Rename bands for clarity\n",
    "    return temp_c.select(\n",
    "        ['temperature_2m_max', 'temperature_2m_mean'],\n",
    "        ['tmax_celsius', 'tmean_celsius']\n",
    "    )\n",
    "\n",
    "# Apply temperature conversion\n",
    "temperature_data = era5_collection.map(convert_temperature)\n",
    "\n",
    "print(\"✅ Temperature data loaded and converted to Celsius\")"
   ]
  },
  {
   "cell_type": "markdown",
   "metadata": {},
   "source": [
    "## Step 6: Extract Temperature Time Series\n",
    "\n",
    "This function extracts daily temperature values for your study location."
   ]
  },
  {
   "cell_type": "code",
   "execution_count": null,
   "metadata": {},
   "outputs": [],
   "source": [
    "def extract_daily_temperature(collection, point, start_date, end_date):\n",
    "    \"\"\"\n",
    "    Extract daily temperature time series from ERA5 data\n",
    "    \n",
    "    Parameters:\n",
    "    - collection: ERA5 image collection\n",
    "    - point: Geographic point (ee.Geometry.Point)\n",
    "    - start_date: Start date string (YYYY-MM-DD)\n",
    "    - end_date: End date string (YYYY-MM-DD)\n",
    "    \n",
    "    Returns:\n",
    "    - pandas DataFrame with daily temperature data\n",
    "    \"\"\"\n",
    "    \n",
    "    print(\"🔄 Extracting temperature time series...\")\n",
    "    \n",
    "    # Get the time series data\n",
    "    time_series = collection.getRegion(point, 1000).getInfo()\n",
    "    \n",
    "    # Convert to DataFrame\n",
    "    header = time_series[0]\n",
    "    data_rows = time_series[1:]\n",
    "    \n",
    "    # Create DataFrame\n",
    "    df = pd.DataFrame(data_rows, columns=header)\n",
    "    \n",
    "    # Convert time to datetime\n",
    "    df['datetime'] = pd.to_datetime(df['time'], unit='ms')\n",
    "    df['date'] = df['datetime'].dt.date\n",
    "    \n",
    "    # Clean and organize data\n",
    "    temp_df = df[['date', 'tmax_celsius', 'tmean_celsius']].copy()\n",
    "    temp_df = temp_df.dropna()  # Remove any missing values\n",
    "    temp_df = temp_df.sort_values('date').reset_index(drop=True)\n",
    "    \n",
    "    print(f\"✅ Extracted {len(temp_df)} daily temperature records\")\n",
    "    \n",
    "    return temp_df\n",
    "\n",
    "# Extract the temperature data (this may take a minute or two)\n",
    "daily_temps = extract_daily_temperature(temperature_data, study_point, start_date, end_date)\n",
    "\n",
    "# Display first few records\n",
    "print(\"\\n📋 First 10 records:\")\n",
    "print(daily_temps.head(10))"
   ]
  },
  {
   "cell_type": "markdown",
   "metadata": {},
   "source": [
    "## Step 7: Basic Data Analysis and Visualization"
   ]
  },
  {
   "cell_type": "code",
   "execution_count": null,
   "metadata": {},
   "outputs": [],
   "source": [
    "# Convert date column to datetime for plotting\n",
    "daily_temps['date'] = pd.to_datetime(daily_temps['date'])\n",
    "\n",
    "# Calculate basic statistics\n",
    "print(\"📊 TEMPERATURE STATISTICS\")\n",
    "print(\"=\" * 40)\n",
    "print(f\"Maximum Temperature:\")\n",
    "print(f\"  Mean: {daily_temps['tmax_celsius'].mean():.1f}°C\")\n",
    "print(f\"  Min:  {daily_temps['tmax_celsius'].min():.1f}°C\")\n",
    "print(f\"  Max:  {daily_temps['tmax_celsius'].max():.1f}°C\")\n",
    "print(f\"\\nMean Temperature:\")\n",
    "print(f\"  Mean: {daily_temps['tmean_celsius'].mean():.1f}°C\")\n",
    "print(f\"  Min:  {daily_temps['tmean_celsius'].min():.1f}°C\")\n",
    "print(f\"  Max:  {daily_temps['tmean_celsius'].max():.1f}°C\")\n",
    "\n",
    "# Create visualization\n",
    "fig, axes = plt.subplots(2, 1, figsize=(12, 10))\n",
    "fig.suptitle(f'Temperature Analysis for {location_name}\\n{start_date} to {end_date}', \n",
    "             fontsize=14, fontweight='bold')\n",
    "\n",
    "# Time series plot\n",
    "axes[0].plot(daily_temps['date'], daily_temps['tmax_celsius'], \n",
    "            'r-', alpha=0.7, linewidth=0.8, label='Daily Maximum')\n",
    "axes[0].plot(daily_temps['date'], daily_temps['tmean_celsius'], \n",
    "            'b-', alpha=0.7, linewidth=0.8, label='Daily Mean')\n",
    "axes[0].set_title('Daily Temperature Time Series')\n",
    "axes[0].set_ylabel('Temperature (°C)')\n",
    "axes[0].legend()\n",
    "axes[0].grid(True, alpha=0.3)\n",
    "\n",
    "# Temperature distribution\n",
    "axes[1].hist(daily_temps['tmax_celsius'], bins=30, alpha=0.7, \n",
    "            color='red', label='Maximum Temperature', density=True)\n",
    "axes[1].hist(daily_temps['tmean_celsius'], bins=30, alpha=0.7, \n",
    "            color='blue', label='Mean Temperature', density=True)\n",
    "axes[1].set_title('Temperature Distribution')\n",
    "axes[1].set_xlabel('Temperature (°C)')\n",
    "axes[1].set_ylabel('Density')\n",
    "axes[1].legend()\n",
    "axes[1].grid(True, alpha=0.3)\n",
    "\n",
    "plt.tight_layout()\n",
    "plt.show()"
   ]
  },
  {
   "cell_type": "markdown",
   "metadata": {},
   "source": [
    "## Step 8: Calculate Monthly Averages\n",
    "\n",
    "Monthly averages are often more useful for health analysis as they smooth out daily variations."
   ]
  },
  {
   "cell_type": "code",
   "execution_count": null,
   "metadata": {},
   "outputs": [],
   "source": [
    "# Add year and month columns\n",
    "daily_temps['year'] = daily_temps['date'].dt.year\n",
    "daily_temps['month'] = daily_temps['date'].dt.month\n",
    "daily_temps['year_month'] = daily_temps['date'].dt.to_period('M')\n",
    "\n",
    "# Calculate monthly averages\n",
    "monthly_averages = daily_temps.groupby('year_month').agg({\n",
    "    'tmax_celsius': ['mean', 'std', 'min', 'max'],\n",
    "    'tmean_celsius': ['mean', 'std', 'min', 'max']\n",
    "}).round(2)\n",
    "\n",
    "# Flatten column names\n",
    "monthly_averages.columns = ['_'.join(col).strip() for col in monthly_averages.columns]\n",
    "monthly_averages = monthly_averages.reset_index()\n",
    "\n",
    "# Add a proper date column\n",
    "monthly_averages['date'] = monthly_averages['year_month'].dt.to_timestamp()\n",
    "\n",
    "print(\"📅 Monthly Temperature Averages\")\n",
    "print(\"=\" * 50)\n",
    "print(monthly_averages[['year_month', 'tmax_celsius_mean', 'tmean_celsius_mean']].head(10))\n",
    "\n",
    "# Plot monthly averages\n",
    "plt.figure(figsize=(12, 6))\n",
    "plt.plot(monthly_averages['date'], monthly_averages['tmax_celsius_mean'], \n",
    "         'ro-', label='Monthly Avg Maximum Temp', markersize=4)\n",
    "plt.plot(monthly_averages['date'], monthly_averages['tmean_celsius_mean'], \n",
    "         'bo-', label='Monthly Avg Mean Temp', markersize=4)\n",
    "plt.title(f'Monthly Average Temperatures - {location_name}')\n",
    "plt.xlabel('Date')\n",
    "plt.ylabel('Temperature (°C)')\n",
    "plt.legend()\n",
    "plt.grid(True, alpha=0.3)\n",
    "plt.xticks(rotation=45)\n",
    "plt.tight_layout()\n",
    "plt.show()"
   ]
  },
  {
   "cell_type": "markdown",
   "metadata": {},
   "source": [
    "## Step 9: Export Data for Further Analysis"
   ]
  },
  {
   "cell_type": "code",
   "execution_count": null,
   "metadata": {},
   "outputs": [],
   "source": [
    "# Create export directory if it doesn't exist\n",
    "import os\n",
    "os.makedirs('../data', exist_ok=True)\n",
    "\n",
    "# Prepare data for export\n",
    "daily_export = daily_temps[['date', 'tmax_celsius', 'tmean_celsius']].copy()\n",
    "monthly_export = monthly_averages[['year_month', 'tmax_celsius_mean', 'tmean_celsius_mean']].copy()\n",
    "monthly_export.columns = ['month', 'avg_tmax_celsius', 'avg_tmean_celsius']\n",
    "\n",
    "# Export to CSV\n",
    "daily_filename = f\"../data/{location_name.lower().replace(' ', '_')}_daily_temp_{start_date[:4]}_{end_date[:4]}.csv\"\n",
    "monthly_filename = f\"../data/{location_name.lower().replace(' ', '_')}_monthly_temp_{start_date[:4]}_{end_date[:4]}.csv\"\n",
    "\n",
    "daily_export.to_csv(daily_filename, index=False)\n",
    "monthly_export.to_csv(monthly_filename, index=False)\n",
    "\n",
    "# Export to Excel\n",
    "excel_filename = f\"../data/{location_name.lower().replace(' ', '_')}_temperature_data_{start_date[:4]}_{end_date[:4]}.xlsx\"\n",
    "with pd.ExcelWriter(excel_filename) as writer:\n",
    "    daily_export.to_excel(writer, sheet_name='Daily_Data', index=False)\n",
    "    monthly_export.to_excel(writer, sheet_name='Monthly_Averages', index=False)\n",
    "\n",
    "print(\"💾 Data exported successfully!\")\n",
    "print(f\"📁 Files created:\")\n",
    "print(f\"   • {daily_filename}\")\n",
    "print(f\"   • {monthly_filename}\")\n",
    "print(f\"   • {excel_filename}\")\n",
    "\n",
    "print(f\"\\n📊 Summary:\")\n",
    "print(f\"   • Daily records: {len(daily_export)}\")\n",
    "print(f\"   • Monthly records: {len(monthly_export)}\")\n",
    "print(f\"   • Temperature range: {daily_temps['tmean_celsius'].min():.1f}°C to {daily_temps['tmean_celsius'].max():.1f}°C\")"
   ]
  },
  {
   "cell_type": "markdown",
   "metadata": {},
   "source": [
    "## Next Steps\n",
    "\n",
    "Now that you have extracted temperature data, you can:\n",
    "\n",
    "1. **Integrate with Health Data**: Merge your temperature data with health outcome data\n",
    "2. **Statistical Analysis**: Perform correlation analysis, regression, or time series analysis\n",
    "3. **Advanced Visualization**: Create publication-ready plots and maps\n",
    "4. **Multiple Locations**: Repeat this process for different study areas\n",
    "5. **Different Variables**: Extract precipitation, humidity, or other climate variables\n",
    "\n",
    "## Key Learning Points\n",
    "\n",
    "✅ **Google Earth Engine Setup**: Initialize and authenticate with GEE  \n",
    "✅ **Spatial Definition**: Define study areas using coordinates and buffers  \n",
    "✅ **Temporal Filtering**: Select specific time periods for analysis  \n",
    "✅ **Data Processing**: Convert units and clean data  \n",
    "✅ **Time Series Extraction**: Get daily values for statistical analysis  \n",
    "✅ **Data Export**: Save results in multiple formats (CSV, Excel)  \n",
    "\n",
    "## Resources\n",
    "\n",
    "- [Google Earth Engine Documentation](https://developers.google.com/earth-engine)\n",
    "- [GEEMAP Tutorials](https://geemap.org)\n",
    "- [ERA5 Dataset Information](https://cds.climate.copernicus.eu/cdsapp#!/dataset/reanalysis-era5-land)\n",
    "- [Climate Data for Health Research Guide](https://github.com/your-repo)"
   ]
  }
 ],
 "metadata": {
  "kernelspec": {
   "display_name": "Python 3",
   "language": "python",
   "name": "python3"
  },
  "language_info": {
   "codemirror_mode": {
    "name": "ipython",
    "version": 3
   },
   "file_extension": ".py",
   "mimetype": "text/x-python",
   "name": "python",
   "nbconvert_exporter": "python",
   "pygments_lexer": "ipython3",
   "version": "3.8.0"
  }
 },
 "nbformat": 4,
 "nbformat_minor": 4
}
